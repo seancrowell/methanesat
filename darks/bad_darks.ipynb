{
 "cells": [
  {
   "cell_type": "code",
   "execution_count": 1,
   "id": "7521c58d-36cd-49c2-ab89-4f4e810dfec6",
   "metadata": {},
   "outputs": [],
   "source": [
    "from netCDF4 import Dataset\n",
    "import numpy as np\n",
    "from pathlib import Path\n",
    "import matplotlib.pyplot as plt\n",
    "import glob,os,pdb\n",
    "import datetime as dt\n",
    "%matplotlib ipympl\n",
    "plt.close('all')"
   ]
  },
  {
   "cell_type": "code",
   "execution_count": 2,
   "id": "9b59d58d-3312-4072-bb89-373dea9362d1",
   "metadata": {},
   "outputs": [],
   "source": [
    "def calculate_bad_pixels(dark):\n",
    "    dead = np.zeros(dark.shape[1:])\n",
    "    hot = dead.copy()\n",
    "    cold = dead.copy()\n",
    "    high_std = dead.copy()\n",
    "    temp_dark_std = np.nanstd(dark,0)\n",
    "    temp_dark_mean = np.nanmean(dark,0)\n",
    "    dead[temp_dark_std < 1] = 1  # Dead Pixels\n",
    "    cold[\n",
    "        np.logical_and(temp_dark_mean < 1000, temp_dark_std < 1)\n",
    "    ] = 1  # COLD Pixels\n",
    "    hot[\n",
    "        np.logical_and(temp_dark_mean > 3000, temp_dark_std < 1)\n",
    "    ] = 1  # HOT Pixels\n",
    "    high_std[temp_dark_std > 5 * np.nanmean(temp_dark_std)] = (\n",
    "        1\n",
    "    )\n",
    "    return {'dead':dead[:],'cold':cold[:],'hot':hot[:],'high_std':high_std[:]}\n",
    "    "
   ]
  },
  {
   "cell_type": "code",
   "execution_count": null,
   "id": "d2e33b38-de86-4686-86ba-1fec1328ffd8",
   "metadata": {},
   "outputs": [],
   "source": [
    "os.chdir('/media/sata/methanesat/darks/')\n",
    "ch4_files = sorted(list(Path('./2024').rglob('*CH4*.nc')))\n",
    "ch4_files.extend(sorted(list(Path('./2025').rglob('*CH4*.nc'))))\n",
    "o2_files = sorted(list(Path('./2024').rglob('*O2*.nc')))\n",
    "o2_files.extend(sorted(list(Path('./2024').rglob('*O2*.nc'))))\n",
    "\n",
    "ch4_files = np.array(ch4_files)\n",
    "o2_files = np.array(o2_files)\n",
    "\n",
    "ch4_bp = Dataset('../level1a_calibration_MSAT_20250722.0.0_CH4_BadPixelMap_CH4_20250722.nc','r')['BadPixelMap'][:] \n",
    "o2_bp = Dataset('../level1a_calibration_MSAT_20250722.0.0_O2_BadPixelMap_O2_20250722.nc','r')['BadPixelMap'][:] \n"
   ]
  },
  {
   "cell_type": "code",
   "execution_count": null,
   "id": "c38c3e79-b85e-4c71-a720-9f8b43fc28a5",
   "metadata": {},
   "outputs": [],
   "source": [
    "plt.hist(ch4_bp.flatten(),bins=[0,1,3,5,11,24,50,100,150])"
   ]
  },
  {
   "cell_type": "code",
   "execution_count": null,
   "id": "9eeafff6-40fd-4374-875e-04f165b142bc",
   "metadata": {},
   "outputs": [],
   "source": [
    "plt.figure(); plt.pcolormesh(np.log(ch4_bp+0.000001)); plt.colorbar(); plt.show()"
   ]
  },
  {
   "cell_type": "code",
   "execution_count": null,
   "id": "0b084184-3256-4349-b880-46af0b6f4779",
   "metadata": {},
   "outputs": [],
   "source": [
    "o2_files"
   ]
  },
  {
   "cell_type": "markdown",
   "id": "ed820c56-d9b4-4984-b23b-0f97650ff8af",
   "metadata": {},
   "source": [
    "CH4:\n",
    "CH4_00F20001\n",
    "CH4_0A1E0001\n",
    "CH4_063F0001\n",
    "CH4_080F0001\n",
    "CH4_05850001\n",
    "\n",
    "O2:\n",
    "O2_00F20001\n",
    "O2_0A1E0001\n",
    "O2_037E0001\n",
    "O2_063F0001\n",
    "O2_05850001\n",
    "\n",
    "The following dark files have more bad pixels than usual and should be checked (and removed if necessary):\n",
    "04A40001 07FA0001 05850001 091E0001 04900001 03BA0001 0A3E0001 05490001 \n",
    "056F0001 06400001 03D10001 062B0001 0CA50001 05370001 06720001 0C750001 \n",
    "06140001 04B00001 05220001 047C0001\n"
   ]
  },
  {
   "cell_type": "markdown",
   "id": "959cbca8-e76e-4b5e-8845-26ae583887b0",
   "metadata": {},
   "source": [
    "# Make a list of the suspect files"
   ]
  },
  {
   "cell_type": "code",
   "execution_count": null,
   "id": "e843aa4f-a46e-4d36-a8b2-d113c22f514e",
   "metadata": {},
   "outputs": [],
   "source": [
    "bad_pfx_list=sorted(list(set([\n",
    "                    '0A1E','04A4','091E','037E','037C','034E','0135',\n",
    "                    '0407','0135','04B0','03D1','0490','0A3E','056F',\n",
    "                    '080F','0640','0537','063F','0585','03BA','00F2',\n",
    "                    '07FA','0549','03D1','062B','0CA5','0537','0672',\n",
    "                    '0C75','0614','04B0','0522','047C'\n",
    "                    ])))\n",
    "bad_o2_files = {}\n",
    "bad_ch4_files = {}\n",
    "for pfx in bad_pfx_list:\n",
    "    bad_o2_files[pfx] = o2_files[np.where([str(s).split('/')[3] == f'{pfx}0001' for s in o2_files])[0].flatten()]\n",
    "    bad_ch4_files[pfx] = ch4_files[np.where([str(s).split('/')[3] == f'{pfx}0001' for s in ch4_files])[0].flatten()]"
   ]
  },
  {
   "cell_type": "code",
   "execution_count": null,
   "id": "2e4fcaef-2955-449f-a73c-1e9f292c043f",
   "metadata": {},
   "outputs": [],
   "source": [
    "sorted(list(bad_o2_files.keys()))[15:]"
   ]
  },
  {
   "cell_type": "markdown",
   "id": "efbc021a-d9ea-4999-ad43-117c6878e36d",
   "metadata": {},
   "source": [
    "# Plot all frames for each dark and save"
   ]
  },
  {
   "cell_type": "code",
   "execution_count": null,
   "id": "17fd7d0b-9097-42cf-831d-cc9d17f4b46b",
   "metadata": {
    "scrolled": true
   },
   "outputs": [
    {
     "name": "stdout",
     "output_type": "stream",
     "text": [
      "2024/08/07/00C30001/po-2075/MethaneSAT_L0_O2_Dark_0_00C30001.nc\n",
      "2024/09/01/00F20001/po-2075/MethaneSAT_L0_O2_Dark_0_00F20001.nc\n",
      "2024/09/10/01350001/202409121318_po-2092/MethaneSAT_L0_O2_Dark_0_01350001.nc\n",
      "2024/09/24/01A70001/202409291307_po-2117/MethaneSAT_L0_O2_Dark_0_01A70001.nc\n",
      "2024/09/25/01B20001/202409281317_po-2116/MethaneSAT_L0_O2_Dark_0_01B20001.nc\n",
      "2024/10/27/034E0001/202411022044_po-2197/MethaneSAT_L0_O2_Dark_0_034E0001.nc\n"
     ]
    }
   ],
   "source": [
    "plt.close('all')\n",
    "bad_o2_files = {}\n",
    "bad_o2_file_list = open('noisy_o2_id','r').readlines()\n",
    "for ifi,fi in enumerate(bad_o2_file_list):\n",
    "    pfx = fi.split('/')[3]\n",
    "    bad_o2_files[pfx] = fi.strip('\\n')\n",
    "for ip,pfx in enumerate(list(bad_o2_files.keys())):\n",
    "    print(bad_o2_files[pfx])\n",
    "    f = Dataset(bad_o2_files[pfx])\n",
    "    dn = f['Frame/PixelData'][:]\n",
    "    n_rows = max(((dn.shape[0])//4+1,1))\n",
    "    fig,axs=plt.subplots(n_rows,4,figsize=(10,10))\n",
    "    for i in range(dn.shape[0]):\n",
    "        if dn.shape[0] < 4:\n",
    "            ax = axs[i]\n",
    "        else:\n",
    "            ax = axs[i//4,i%4]\n",
    "        g = ax.pcolormesh(dn[i],vmin=1000,vmax=1500); \n",
    "        plt.colorbar(g,ax=ax)\n",
    "        ax.set_title(f'{i}')\n",
    "    fig.tight_layout()\n",
    "    fig.suptitle(f'{pfx} Dark Map')\n",
    "    fname = '_'.join(bad_o2_files[pfx].split('/')[:-1])+bad_o2_files[pfx].split('/')[-1][:-3]+'_o2_darks.png'\n",
    "    fig.savefig(f'figs/all_frames/{fname}')\n",
    "    plt.close('all')\n",
    "    del dn\n"
   ]
  },
  {
   "cell_type": "code",
   "execution_count": null,
   "id": "9a180d57-1041-42e8-99d5-31a63e765bf3",
   "metadata": {},
   "outputs": [],
   "source": [
    "%debug"
   ]
  },
  {
   "cell_type": "code",
   "execution_count": null,
   "id": "1242083d-4ed1-4e62-ae1d-7ae3de86726a",
   "metadata": {},
   "outputs": [],
   "source": [
    "plt.close('all')\n",
    "bad_ch4_files = {}\n",
    "bad_ch4_file_list = open('noisy_ch4_id','r').readlines()\n",
    "for ifi,fi in enumerate(bad_ch4_file_list):\n",
    "    pfx = fi.split('/')[3]\n",
    "    bad_ch4_files[pfx] = fi.strip('\\n')\n",
    "for ip,pfx in enumerate(list(bad_ch4_files.keys())):\n",
    "    print(pfx)\n",
    "    f = Dataset(bad_ch4_files[pfx])\n",
    "    dn = f['Frame/PixelData'][:]\n",
    "    n_rows = max((dn.shape[0]//4+1,1))\n",
    "    fig,axs=plt.subplots(n_rows,4,figsize=(10,10))\n",
    "    for i in range(dn.shape[0]):\n",
    "        if dn.shape[0] < 4:\n",
    "            ax = axs[i]\n",
    "        else:\n",
    "            ax = axs[i//4,i%4]\n",
    "        g = ax.pcolormesh(dn[i],vmin=1000,vmax=1500); \n",
    "        plt.colorbar(g,ax=ax)\n",
    "        ax.set_title(f'{i}')\n",
    "    fig.tight_layout()\n",
    "    fig.suptitle(f'{pfx} Dark Map')\n",
    "    fig.savefig(f'figs//all_frames/{bad_ch4_files[pfx][:-3]}__ch4_darks.png')\n",
    "    plt.close('all')\n",
    "    del dn"
   ]
  },
  {
   "cell_type": "code",
   "execution_count": null,
   "id": "a35ea1e0-1340-4185-8358-325b6f7114d9",
   "metadata": {},
   "outputs": [],
   "source": [
    "os.makedirs(pfx,exist_ok=True)"
   ]
  },
  {
   "cell_type": "markdown",
   "id": "5bd5ec17-b7bc-42af-8d35-4bd0d65bf920",
   "metadata": {},
   "source": [
    "# Plot the mean and standard deviation of the DN and the high STD pixels"
   ]
  },
  {
   "cell_type": "code",
   "execution_count": null,
   "id": "901af21a-9d11-41e2-b606-ec4f14c431fd",
   "metadata": {},
   "outputs": [],
   "source": [
    "plt.close('all')\n",
    "for pfx in list(bad_o2_files.keys()):\n",
    "    print(pfx)\n",
    "    f = Dataset(bad_o2_files[pfx][-1])\n",
    "    dn = f['Frame/PixelData'][:]\n",
    "\n",
    "    bp = calculate_bad_pixels(dn)\n",
    "    high_std_bp = bp['high_std'][:]\n",
    "    combined_bp = np.logical_or((high_std_bp > 0),(o2_bp > 0))\n",
    "\n",
    "    fig,axs = plt.subplots(1,3,figsize=(8,2.7))\n",
    "    g=axs[0].pcolormesh(dn.mean(0),vmin=1000,vmax=1500); plt.colorbar(g,ax=axs[0])\n",
    "    g=axs[1].pcolormesh(dn.std(0),vmax=10); plt.colorbar(g,ax=axs[1])\n",
    "    g=axs[2].pcolormesh(high_std_bp,vmin=0,vmax=1); plt.colorbar(g,ax=axs[2]);\n",
    "    axs[0].set_title(f'Mean DN ({dn.shape[0]} Frm)')\n",
    "    axs[1].set_title(f'Std DN')\n",
    "    axs[2].set_title(f'STD BPM ({high_std_bp.sum()})')\n",
    "    fig.suptitle(f'{pfx} 5*STD Bad Pixels')\n",
    "    fig.tight_layout()\n",
    "    fig.savefig(f'figs/{pfx}/{pfx}_mean_std_bpmask.png')\n",
    "    plt.close('all')"
   ]
  },
  {
   "cell_type": "code",
   "execution_count": null,
   "id": "8d32137c-a82b-4d63-86fa-a6356c7d0d23",
   "metadata": {},
   "outputs": [],
   "source": [
    "fig,axs = plt.subplots(1,2,figsize=(8,3))\n",
    "g = axs[0].pcolormesh(np.nanmean(dn[:-1],0),vmin=1000,vmax=1500); \n",
    "axs[0].set_title('first 19 frames')\n",
    "axs[0].set_aspect('equal')\n",
    "plt.colorbar(g,ax=axs[0])\n",
    "g = axs[1].pcolormesh(dn[-1],vmin=1000,vmax=1500); \n",
    "axs[1].set_title('last frame')\n",
    "axs[1].set_aspect('equal')\n",
    "plt.colorbar(g,ax=axs[1])\n",
    "fig.tight_layout()\n",
    "fig.suptitle('01350001')"
   ]
  },
  {
   "cell_type": "code",
   "execution_count": null,
   "id": "f3766e60-5f0a-4857-92a6-6bbaf30de6b8",
   "metadata": {},
   "outputs": [],
   "source": [
    "plt.close('all')\n",
    "for pfx in ['0043']:\n",
    "    f = Dataset(o2_files[0])\n",
    "    dn = f['Frame/PixelData'][:]\n",
    "\n",
    "    bp = calculate_bad_pixels(dn)\n",
    "    #bp = np.array(bp)\n",
    "    high_std_bp = bp['high_std'][:]\n",
    "    combined_bp = np.logical_or((high_std_bp > 0),(o2_bp > 0))\n",
    "\n",
    "    fig,axs = plt.subplots(1,3,figsize=(8,2.7))\n",
    "    g=axs[0].pcolormesh(dn.mean(0),vmin=1000,vmax=1500); plt.colorbar(g,ax=axs[0])\n",
    "    g=axs[1].pcolormesh(dn.std(0),vmax=10); plt.colorbar(g,ax=axs[1])\n",
    "    g=axs[2].pcolormesh(high_std_bp,vmin=0,vmax=1); plt.colorbar(g,ax=axs[2]);\n",
    "    axs[0].set_title(f'Mean DN ({dn.shape[0]} Frm)')\n",
    "    axs[1].set_title(f'Std DN')\n",
    "    axs[2].set_title(f'STD BPM ({high_std_bp.sum()})')\n",
    "    fig.suptitle(f'{pfx} 5*STD Bad Pixels')\n",
    "    fig.tight_layout()"
   ]
  },
  {
   "cell_type": "code",
   "execution_count": null,
   "id": "c85841de-0dd5-4d30-89ec-a8e219a8af96",
   "metadata": {},
   "outputs": [],
   "source": [
    "f['Frame/PixelData'].dimensions"
   ]
  },
  {
   "cell_type": "code",
   "execution_count": null,
   "id": "138bf398-ea33-4acf-8eb7-de4daaa04f55",
   "metadata": {},
   "outputs": [],
   "source": [
    "plt.close('all')\n",
    "mean_2 = Dataset('mean_darks/MethaneSAT_L0_O2_Dark_0_00430001_mean.nc','r')['mean_dark'][:]\n",
    "std_2 = Dataset('mean_darks/MethaneSAT_L0_O2_Dark_0_00430001_mean.nc','r')['std_dark'][:]\n",
    "plt.figure(); plt.pcolormesh(std_2-dn.std(0)),plt.colorbar(); plt.show()\n",
    "plt.figure(); plt.pcolormesh(mean_2-dn.mean(0)); plt.colorbar(); plt.show()\n",
    "plt.figure(); plt.hist((std_2-dn.std(0)).flatten(),bins=100); plt.show()\n",
    "plt.figure(); plt.hist((mean_2-dn.mean(0)).flatten(),bins=100); plt.show()\n"
   ]
  },
  {
   "cell_type": "code",
   "execution_count": null,
   "id": "cc9c066e-fb0d-4554-b508-f3faf19c5ec8",
   "metadata": {},
   "outputs": [],
   "source": [
    "plt.close('all')\n",
    "for pfx in ['037C']:\n",
    "    f = Dataset(bad_ch4_files[pfx][-1])\n",
    "    dn = f['Frame/PixelData'][:]\n",
    "\n",
    "    bp = calculate_bad_pixels(dn)\n",
    "    bp = np.array(bp)\n",
    "    combined_bp = np.logical_or((bp > 0),(ch4_bp > 0))\n",
    "\n",
    "    fig,axs = plt.subplots(1,3,figsize=(8,2.7))\n",
    "    g=axs[0].pcolormesh(dn.mean(0),vmin=1000,vmax=1500); plt.colorbar(g,ax=axs[0])\n",
    "    g=axs[1].pcolormesh(dn.std(0),vmax=10); plt.colorbar(g,ax=axs[1])\n",
    "    g=axs[2].pcolormesh((bp>17)*(bp<33),vmin=0,vmax=1); plt.colorbar(g,ax=axs[2]);\n",
    "    axs[0].set_title(f'Mean DN ({dn.shape[0]} Frm)')\n",
    "    axs[1].set_title(f'Std DN')\n",
    "    axs[2].set_title(f'STD BPM ({sum(sum((bp>17)*(bp<33)))})')\n",
    "    fig.suptitle(f'{pfx} 5*STD Bad Pixels')\n",
    "    fig.tight_layout()"
   ]
  },
  {
   "cell_type": "code",
   "execution_count": null,
   "id": "4d88b721-fb33-4530-81af-3846e561b2a3",
   "metadata": {},
   "outputs": [],
   "source": [
    "files = sorted(glob.glob('mean_darks/*_O2_*.nc'))"
   ]
  },
  {
   "cell_type": "code",
   "execution_count": null,
   "id": "67dee3ba-e5a2-4d13-bd82-ac97e4afe313",
   "metadata": {},
   "outputs": [],
   "source": [
    "fid = Dataset(files[0])\n",
    "mean = fid['mean_dark'][:]\n",
    "std = fid['std_dark'][:]\n",
    "mean"
   ]
  },
  {
   "cell_type": "code",
   "execution_count": null,
   "id": "6cd0b776-83dc-4aa9-a029-b6e83f70ba88",
   "metadata": {},
   "outputs": [],
   "source": [
    "'_'.join(str(i) for i in range(10)[:-1])"
   ]
  },
  {
   "cell_type": "code",
   "execution_count": null,
   "id": "7a6a51cb-39c1-4cca-bcb9-b76ce3327a44",
   "metadata": {},
   "outputs": [],
   "source": [
    "import os"
   ]
  },
  {
   "cell_type": "code",
   "execution_count": null,
   "id": "50ec3f62-d16c-4ef1-bfc1-d36b84afaa0b",
   "metadata": {},
   "outputs": [],
   "source": [
    "os.path.basename(files[0])"
   ]
  },
  {
   "cell_type": "code",
   "execution_count": null,
   "id": "1ef47323-76cb-4194-9382-90274109b2d4",
   "metadata": {},
   "outputs": [],
   "source": []
  }
 ],
 "metadata": {
  "kernelspec": {
   "display_name": "Python 3 (ipykernel)",
   "language": "python",
   "name": "python3"
  },
  "language_info": {
   "codemirror_mode": {
    "name": "ipython",
    "version": 3
   },
   "file_extension": ".py",
   "mimetype": "text/x-python",
   "name": "python",
   "nbconvert_exporter": "python",
   "pygments_lexer": "ipython3",
   "version": "3.11.6"
  }
 },
 "nbformat": 4,
 "nbformat_minor": 5
}
